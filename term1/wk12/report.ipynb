{
 "cells": [
  {
   "cell_type": "code",
   "execution_count": 19,
   "metadata": {},
   "outputs": [],
   "source": [
    "%matplotlib qt\n",
    "from sympy.physics.mechanics import *\n",
    "import sympy as sp\n",
    "import numpy as np\n",
    "import pandas as pd\n",
    "import matplotlib.pyplot as plt\n",
    "from json import dump, load\n",
    "from subprocess import call, Popen, PIPE"
   ]
  },
  {
   "cell_type": "code",
   "execution_count": 8,
   "metadata": {},
   "outputs": [],
   "source": [
    "def make_func(config, val_type, method):\n",
    "    m1, m2, l1, l2, g = sp.symbols('m1 m2 l1 l2 g')\n",
    "    q1, q2 = dynamicsymbols('s[0] s[1]')\n",
    "    q1d, q2d = dynamicsymbols('s[0] s[1]', 1)\n",
    "    v1, v2 = dynamicsymbols('s[2] s[3]')\n",
    "    L = (m1 + m2)/2 * l1**2 * q1d**2 + m2/2 * l2**2 * q2**2 + m2*l1*l2*q1d*q2d*sp.cos(q1-q2) + (m1 + m2)*g*l1*sp.cos(q1) + m2*g*l2*sp.cos(q2)\n",
    "    LM = LagrangesMethod(L, [q1, q2])\n",
    "    LM.form_lagranges_equations()\n",
    "    out = open('function.cpp', 'w')\n",
    "    print('#include <valarray>', file=out)\n",
    "    print('#include <string>', file=out)\n",
    "    print('#include \"function.h\"', file=out)\n",
    "    print('using namespace std;', file=out)\n",
    "    print('#undef ValType', file=out)\n",
    "    print('#define ValType '+val_type, file=out)\n",
    "    print('#undef METHOD', file=out)\n",
    "    print('#define METHOD (std::string)\"'+ method +'\"', file=out)\n",
    "    print('valarray<ValType> F(ValType t, valarray<ValType> s) {', file=out)\n",
    "    print('\\treturn valarray<ValType> {s[2], s[3],', \n",
    "        str(LM.forcing[0].subs({\n",
    "            q1d:v1,\n",
    "            q2d:v2,\n",
    "            l1:config['pars']['l1'],\n",
    "            l2:config['pars']['l2'],\n",
    "            m1:config['pars']['m1'],\n",
    "            m2:config['pars']['m2'],\n",
    "            g:config['pars']['g']})).replace('(t)', ''),\n",
    "        ', ',\n",
    "        str(LM.forcing[1].subs({\n",
    "            q1d:v1,\n",
    "            q2d:v2,\n",
    "            l1:config['pars']['l1'],\n",
    "            l2:config['pars']['l2'],\n",
    "            m1:config['pars']['m1'],\n",
    "            m2:config['pars']['m2'],\n",
    "            g:config['pars']['g']})).replace('(t)', ''),\n",
    "        '};',\n",
    "        file=out)\n",
    "    print('}', file=out)\n",
    "    out.close()"
   ]
  },
  {
   "cell_type": "code",
   "execution_count": 9,
   "metadata": {},
   "outputs": [],
   "source": [
    "def make_json(config):\n",
    "    out = open('config.json', 'w')\n",
    "    dump({\n",
    "        'init' : [\n",
    "            config['init']['q1'],\n",
    "            config['init']['q2'],\n",
    "            config['init']['v1'],\n",
    "            config['init']['v2']\n",
    "        ],\n",
    "        'modeling' : {\n",
    "            'time' : config['modeling']['time'],\n",
    "            'dt': config['modeling']['dt'],\n",
    "            'steps' : config['modeling']['steps']\n",
    "        },\n",
    "        'pars' : {\n",
    "        'm1' : config['pars']['m1'],\n",
    "        'm2' : config['pars']['m2'],\n",
    "        'l1' : config['pars']['l1'],\n",
    "        'l2' : config['pars']['l2'],\n",
    "        'g' : config['pars']['g']\n",
    "        }\n",
    "    }, out, indent=4)\n",
    "    out.close()"
   ]
  },
  {
   "cell_type": "code",
   "execution_count": 10,
   "metadata": {},
   "outputs": [],
   "source": [
    "def get_data(config, val_type = 'double', method = 'rk45'):\n",
    "    make_func(config, val_type, method)\n",
    "    make_json(config)\n",
    "    call('make')\n",
    "    call('main.exe')\n",
    "    d = pd.DataFrame(np.fromfile('output.binary', dtype=np.dtype([\n",
    "    ('q1', np.float64), \n",
    "    ('q2', np.float64), \n",
    "    ('v1', np.float64),\n",
    "    ('v2', np.float64)\n",
    "    ])))\n",
    "    call('make clean')\n",
    "    return d"
   ]
  },
  {
   "cell_type": "code",
   "execution_count": 41,
   "metadata": {},
   "outputs": [],
   "source": [
    "config = {\n",
    "    'init' : {\n",
    "        'q1' : 0,\n",
    "        'q2' : np.pi/3,\n",
    "        'v1' : 0,\n",
    "        'v2' : 0\n",
    "    },\n",
    "    'pars' : {\n",
    "        'm1' : 1,\n",
    "        'm2' : 2,\n",
    "        'l1' : 3,\n",
    "        'l2' : 4,\n",
    "        'g' : 9.81\n",
    "    },\n",
    "    'modeling' : {\n",
    "        'time' : 200,\n",
    "        \"dt\": .01,\n",
    "        \"steps\" : 50\n",
    "    }\n",
    "}\n",
    "d = get_data(config)"
   ]
  },
  {
   "cell_type": "code",
   "execution_count": null,
   "metadata": {},
   "outputs": [],
   "source": [
    "fig, ax = plt.subplots()\n",
    "fig.set_size_inches(16,7)\n",
    "\n",
    "t = np.linspace(0, len(d) * config['modeling']['dt'], len(d))\n",
    "ax.plot(t, d.q2)\n",
    "\n",
    "plt.show()"
   ]
  }
 ],
 "metadata": {
  "kernelspec": {
   "display_name": "Python 3",
   "language": "python",
   "name": "python3"
  },
  "language_info": {
   "codemirror_mode": {
    "name": "ipython",
    "version": 3
   },
   "file_extension": ".py",
   "mimetype": "text/x-python",
   "name": "python",
   "nbconvert_exporter": "python",
   "pygments_lexer": "ipython3",
   "version": "3.9.7 (tags/v3.9.7:1016ef3, Aug 30 2021, 20:19:38) [MSC v.1929 64 bit (AMD64)]"
  },
  "orig_nbformat": 4,
  "vscode": {
   "interpreter": {
    "hash": "4de27aad786a5d0a00831c8a5cc18c43e9e33b2c770540e60b034ed7cc6a5c64"
   }
  }
 },
 "nbformat": 4,
 "nbformat_minor": 2
}
