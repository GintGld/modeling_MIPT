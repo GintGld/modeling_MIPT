{
 "cells": [
  {
   "cell_type": "code",
   "execution_count": 1,
   "metadata": {},
   "outputs": [],
   "source": [
    "%matplotlib qt\n",
    "import sympy as sp\n",
    "import numpy as np\n",
    "import pandas as pd\n",
    "import matplotlib.pyplot as plt\n",
    "from json import dump, load\n",
    "from subprocess import call\n",
    "from matplotlib.animation import FuncAnimation"
   ]
  },
  {
   "cell_type": "code",
   "execution_count": 2,
   "metadata": {},
   "outputs": [],
   "source": [
    "config = {\n",
    "    'init' : {\n",
    "        'q' : 3,\n",
    "        'v' : 0\n",
    "    },\n",
    "    'pars' : {\n",
    "        'a' : .1,\n",
    "        'nu': 100,\n",
    "        'l' : 1,\n",
    "        'g' : 9.81\n",
    "    },\n",
    "    'modeling' : {\n",
    "        'time' : 20,\n",
    "        \"dt\": .001,\n",
    "        \"steps\" : 50\n",
    "    }\n",
    "}"
   ]
  },
  {
   "cell_type": "code",
   "execution_count": 3,
   "metadata": {},
   "outputs": [],
   "source": [
    "def set_func(config, val_type = 'double', method = 'rk45'):\n",
    "    a, nu, g, l = sp.symbols('a nu g l')\n",
    "    t, phi = sp.symbols('t s[0]')\n",
    "    expr1 = a * nu ** 2 * sp.cos(nu * t) + g\n",
    "    expr2 = sp.sin(phi) / l\n",
    "    expr = -expr1 * expr2\n",
    "    out = open('function.h', 'w')\n",
    "    print('#include <valarray>', file=out)\n",
    "    print('#define ValType '+val_type, file=out)\n",
    "    print('#define METHOD \"'+method+'\"', file=out)\n",
    "    print('std::valarray<ValType> F(ValType, std::valarray<ValType>);', file=out)\n",
    "    out.close()\n",
    "    out = open('function.cpp', 'w')\n",
    "    print('#include <valarray>', file=out)\n",
    "    print('#include <string>', file=out)\n",
    "    print('#include <cmath>', file=out)\n",
    "    print('#include \"function.h\"', file=out)\n",
    "    print('using namespace std;', file=out)\n",
    "    print('valarray<ValType> F(ValType t, valarray<ValType> s) {', file=out)\n",
    "    print('\\treturn valarray<ValType> {s[1], ', \n",
    "        str(expr.subs({\n",
    "            a :config['pars']['a'],\n",
    "            l :config['pars']['l'],\n",
    "            g :config['pars']['g'],\n",
    "            nu:config['pars']['nu'],\n",
    "        })),\n",
    "        '};', file=out)\n",
    "    print('}', file=out)\n",
    "    out.close()"
   ]
  },
  {
   "cell_type": "code",
   "execution_count": 4,
   "metadata": {},
   "outputs": [],
   "source": [
    "def make_json(config):\n",
    "    out = open('config.json', 'w')\n",
    "    dump({\n",
    "        'init' : [\n",
    "            config['init']['q'],\n",
    "            config['init']['v']\n",
    "        ],\n",
    "        'modeling' : {\n",
    "            'time' : config['modeling']['time'],\n",
    "            'dt': config['modeling']['dt'],\n",
    "            'steps' : config['modeling']['steps']\n",
    "        },\n",
    "        'pars' : {\n",
    "        'l' : config['pars']['l'],\n",
    "        'a' : config['pars']['a'],\n",
    "        'nu' : config['pars']['nu'],\n",
    "        'g' : config['pars']['g']\n",
    "        }\n",
    "    }, out, indent=4)\n",
    "    out.close()"
   ]
  },
  {
   "cell_type": "code",
   "execution_count": 5,
   "metadata": {},
   "outputs": [],
   "source": [
    "def count(config):\n",
    "    make_json(config)\n",
    "    call('make')\n",
    "    call('main.exe')\n",
    "    call('make clean')"
   ]
  },
  {
   "cell_type": "code",
   "execution_count": 6,
   "metadata": {},
   "outputs": [],
   "source": [
    "def load_data():\n",
    "    d = pd.DataFrame(np.fromfile('output.binary', dtype=np.dtype([\n",
    "    ('q', np.float64),\n",
    "    ('v', np.float64)\n",
    "    ])))\n",
    "    return d"
   ]
  },
  {
   "cell_type": "code",
   "execution_count": 7,
   "metadata": {},
   "outputs": [],
   "source": [
    "set_func(config)\n",
    "count(config)\n",
    "data = load_data()"
   ]
  },
  {
   "cell_type": "code",
   "execution_count": 10,
   "metadata": {},
   "outputs": [],
   "source": [
    "fig, ax = plt.subplots()\n",
    "fig.set_size_inches(14,7)\n",
    "\n",
    "t = np.linspace(0, len(data) * config['modeling']['dt'], len(data))\n",
    "#ax.plot(t, data.q)\n",
    "ax.plot(config['pars']['l'] * np.sin(data.q), -config['pars']['l'] * np.cos(data.q) + config['pars']['a'] * np.cos(config['pars']['nu'] * config['modeling']['dt'] * np.arange(len(data))))\n",
    "\n",
    "ax.grid(True, alpha=.3)\n",
    "plt.show()"
   ]
  },
  {
   "cell_type": "code",
   "execution_count": 8,
   "metadata": {},
   "outputs": [],
   "source": [
    "FPS = .1*config['modeling']['dt']\n",
    "\n",
    "L = config['pars']['l']\n",
    "H = config['pars']['l'] + config['pars']['a']\n",
    "\n",
    "fig = plt.figure(figsize=(10, 6))\n",
    "ax = fig.add_subplot(autoscale_on=False, xlim=(-10*L, 10*L), ylim=(-1.02*H, 1.02*H))\n",
    "ax.set_aspect('equal')\n",
    "ax.grid(True, alpha=.3)\n",
    "\n",
    "line, = ax.plot([], [], '.-', lw=2, zorder=2)\n",
    "trace, = ax.plot([], [], '.-', lw=1, ms=1, zorder=1)\n",
    "time_template = 'time = %.1fs'\n",
    "time_text = ax.text(0.05, 0.9, '', transform=ax.transAxes)\n",
    "\n",
    "t = np.arange(0, config['modeling']['time'], config['modeling']['dt'])\n",
    "x = config['pars']['l'] * np.sin(data.q)\n",
    "y =-config['pars']['l'] * np.cos(data.q) + config['pars']['a'] * np.cos(config['pars']['nu'] * config['modeling']['dt'] * np.arange(len(data)))\n",
    "ax.set_xlim(min(x), max(x))\n",
    "ax.set_ylim(min(min(y)-L, -config['pars']['a']), max(max(y)+L, config['pars']['a']))\n",
    "\n",
    "def animate(i):\n",
    "    thisx = [0, x[i]]\n",
    "    thisy = [config['pars']['a'] * np.cos(config['pars']['nu'] * config['modeling']['dt'] * i), y[i]]\n",
    "\n",
    "    line.set_data(thisx, thisy)\n",
    "    if i > len(x):\n",
    "        trace.set_data(x[0], y[0])\n",
    "    else:\n",
    "        trace.set_data(x[:i], y[:i])\n",
    "\n",
    "    time_text.set_text(time_template % (i*config['modeling']['dt']))\n",
    "    return line, trace, time_text\n",
    "\n",
    "ani = FuncAnimation(fig, animate,\n",
    "    frames=np.arange(0, int(config['modeling']['time'] / config['modeling']['dt'])),\n",
    "    blit=True, interval=FPS)\n",
    "\n",
    "plt.show()"
   ]
  }
 ],
 "metadata": {
  "kernelspec": {
   "display_name": "Python 3",
   "language": "python",
   "name": "python3"
  },
  "language_info": {
   "codemirror_mode": {
    "name": "ipython",
    "version": 3
   },
   "file_extension": ".py",
   "mimetype": "text/x-python",
   "name": "python",
   "nbconvert_exporter": "python",
   "pygments_lexer": "ipython3",
   "version": "3.9.7"
  },
  "orig_nbformat": 4,
  "vscode": {
   "interpreter": {
    "hash": "4de27aad786a5d0a00831c8a5cc18c43e9e33b2c770540e60b034ed7cc6a5c64"
   }
  }
 },
 "nbformat": 4,
 "nbformat_minor": 2
}
