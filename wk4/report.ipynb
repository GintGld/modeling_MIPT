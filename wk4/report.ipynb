{
 "cells": [
  {
   "cell_type": "code",
   "execution_count": 4,
   "metadata": {},
   "outputs": [],
   "source": [
    "import numpy as np\n",
    "import pandas as pd\n",
    "import matplotlib.pyplot as plt\n",
    "import json\n",
    "import subprocess"
   ]
  },
  {
   "cell_type": "code",
   "execution_count": 2,
   "metadata": {},
   "outputs": [],
   "source": [
    "config = {\n",
    "    'entries' : [\n",
    "        {\n",
    "            'model' : 'Euler',\n",
    "            'omega' : 2,\n",
    "            'initial coordinate' : 6400000,\n",
    "            'initial velocity' : 0,\n",
    "            'modeling interspace' : 10,\n",
    "            'step of modeling' : 0.01\n",
    "        },\n",
    "        {\n",
    "            'model' : 'Heun',\n",
    "            'omega' : 2,\n",
    "            'initial coordinate' : 6400000,\n",
    "            'initial velocity' : 0,\n",
    "            'modeling interspace' : 10,\n",
    "            'step of modeling' : 0.01\n",
    "        },\n",
    "        {\n",
    "            'model' : 'RK45',\n",
    "            'omega' : 2,\n",
    "            'initial coordinate' : 6400000,\n",
    "            'initial velocity' : 0,\n",
    "            'modeling interspace' : 10,\n",
    "            'step of modeling' : 0.01\n",
    "        }\n",
    "    ]\n",
    "}"
   ]
  },
  {
   "cell_type": "code",
   "execution_count": 15,
   "metadata": {},
   "outputs": [],
   "source": [
    "config = {\n",
    "    'entries' : []\n",
    "}\n",
    "pair_e = []\n",
    "pair_h = []\n",
    "pair_rk = []\n",
    "for i in np.linspace(0.05, 0.01, 2):\n",
    "    pair_e.append([i, (4*i)**-1])\n",
    "    pair_h.append([i, (4*i)**-2])\n",
    "    pair_rk.append([i ,(4*i)**-4])\n",
    "for i in range(len(pair_e)):\n",
    "    config['entries'].append({\n",
    "        'model' : 'Euler',\n",
    "        'omega' : 2,\n",
    "        'initial coordinate' : 6400000,\n",
    "        'initial velocity' : 0,\n",
    "        'modeling interspace' : pair_e[i][1],\n",
    "        'step of modeling' : pair_e[i][0]\n",
    "    })\n",
    "for i in range(len(pair_e)):\n",
    "    config['entries'].append({\n",
    "        'model' : 'Heun',\n",
    "        'omega' : 2,\n",
    "        'initial coordinate' : 6400000,\n",
    "        'initial velocity' : 0,\n",
    "        'modeling interspace' : pair_h[i][1],\n",
    "        'step of modeling' : pair_h[i][0]\n",
    "    })\n",
    "for i in range(len(pair_e)):\n",
    "    config['entries'].append({\n",
    "        'model' : 'RK45',\n",
    "        'omega' : 2,\n",
    "        'initial coordinate' : 6400000,\n",
    "        'initial velocity' : 0,\n",
    "        'modeling interspace' : pair_rk[i][1],\n",
    "        'step of modeling' : pair_rk[i][0]\n",
    "    })\n",
    "write = open('config_file.json', 'w')\n",
    "json.dump(config, write, indent=4)\n",
    "write.close()"
   ]
  },
  {
   "cell_type": "code",
   "execution_count": 5,
   "metadata": {},
   "outputs": [],
   "source": [
    "cmd = 'c:/users/coolg/modeling/wk3/model.exe'\n",
    "returned_output = subprocess.check_output(cmd)\n",
    "print(returned_output.decode('utf-8'))"
   ]
  },
  {
   "cell_type": "code",
   "execution_count": 33,
   "metadata": {},
   "outputs": [
    {
     "name": "stdout",
     "output_type": "stream",
     "text": [
      "data/Euler_2_6400000_0_5_0.050000.txt has been added to dataset\n",
      "data/Euler_2_6400000_0_25_0.010000.txt has been added to dataset\n",
      "data/Heun_2_6400000_0_24_0.050000.txt has been added to dataset\n",
      "data/Heun_2_6400000_0_625_0.010000.txt has been added to dataset\n",
      "data/RK45_2_6400000_0_624_0.050000.txt has been added to dataset\n",
      "data/RK45_2_6400000_0_390624_0.010000.txt has been added to dataset\n",
      "6 files were added\n",
      "Euler:  4\n",
      "Houn:  2\n",
      "RK45:  0\n"
     ]
    }
   ],
   "source": [
    "d_e = []\n",
    "d_h = []\n",
    "d_rk = []\n",
    "count = 0\n",
    "for ent in config['entries']:\n",
    "    if (ent['model'] == 'Euler'):\n",
    "        file = (\n",
    "            'data/Euler_'+\n",
    "            str(int(ent['omega']))+'_'+\n",
    "            str(int(ent['initial coordinate']))+'_'+\n",
    "            str(int(ent['initial velocity']))+'_'+\n",
    "            str(int(ent['modeling interspace']))+'_'+\n",
    "            str(round(ent['step of modeling'],6))+'0'*(8-len(str(ent['step of modeling'])))+'.txt')\n",
    "        d_e.append(pd.read_csv(file))\n",
    "    if (ent['model'] == 'Heun'):\n",
    "        file = (\n",
    "            'data/Heun_'+\n",
    "            str(int(ent['omega']))+'_'+\n",
    "            str(int(ent['initial coordinate']))+'_'+\n",
    "            str(int(ent['initial velocity']))+'_'+\n",
    "            str(int(ent['modeling interspace']))+'_'+\n",
    "            str(round(ent['step of modeling'],6))+'0'*(8-len(str(ent['step of modeling'])))+'.txt')\n",
    "        d_h.append(pd.read_csv(file))\n",
    "    if (ent['model'] == 'RK45'):\n",
    "        file = (\n",
    "            'data/RK45_'+\n",
    "            str(int(ent['omega']))+'_'+\n",
    "            str(int(ent['initial coordinate']))+'_'+\n",
    "            str(int(ent['initial velocity']))+'_'+\n",
    "            str(int(ent['modeling interspace']))+'_'+\n",
    "            str(round(ent['step of modeling'],6))+'0'*(8-len(str(ent['step of modeling'])))+'.txt')\n",
    "        d_e.append(pd.read_csv(file))\n",
    "    print(file, 'has been added to dataset')\n",
    "    count += 1\n",
    "print(count, 'files were added')\n",
    "print('Euler: ',len(d_e))\n",
    "print('Houn:  ',len(d_h))\n",
    "print('RK45:  ',len(d_rk))"
   ]
  }
 ],
 "metadata": {
  "kernelspec": {
   "display_name": "Python 3.9.7 64-bit",
   "language": "python",
   "name": "python3"
  },
  "language_info": {
   "codemirror_mode": {
    "name": "ipython",
    "version": 3
   },
   "file_extension": ".py",
   "mimetype": "text/x-python",
   "name": "python",
   "nbconvert_exporter": "python",
   "pygments_lexer": "ipython3",
   "version": "3.9.7"
  },
  "orig_nbformat": 4,
  "vscode": {
   "interpreter": {
    "hash": "4de27aad786a5d0a00831c8a5cc18c43e9e33b2c770540e60b034ed7cc6a5c64"
   }
  }
 },
 "nbformat": 4,
 "nbformat_minor": 2
}
